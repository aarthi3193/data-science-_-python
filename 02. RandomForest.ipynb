{
 "cells": [
  {
   "cell_type": "code",
   "execution_count": null,
   "metadata": {
    "collapsed": true
   },
   "outputs": [],
   "source": [
    "bootstrap\n",
    "\n",
    "1. Randomly select “k” features from total “m” features.\n",
    "Where k << m\n",
    "\n",
    "k = one third of the total attributes (regression problem)\n",
    "k = square root of the total number (classification problem)\n",
    "\n",
    "2. Among the “k” features, calculate the node “d” using the best split point.\n",
    "\n",
    "3. Split the node into daughter nodes using the best split.\n",
    "\n",
    "4. Repeat 1 to 3 steps until “l” number of nodes has been reached.\n",
    "\n",
    "5. Build forest by repeating steps 1 to 4 for “n” number times to create “n” number of trees."
   ]
  },
  {
   "cell_type": "code",
   "execution_count": null,
   "metadata": {},
   "outputs": [],
   "source": [
    "Ensembling\n",
    "\n",
    "why randomness is req.\n",
    "\n",
    "how does adding randomness helps in reducing variance\n",
    "\n",
    "need of multiple trees \n",
    "\n",
    "diff b/w one tree and multiple trees\n",
    "\n",
    "Stoppage criteria\n",
    "\n",
    "leaf node purity\n",
    "max_depth\n",
    "minimum obs in a node"
   ]
  },
  {
   "cell_type": "code",
   "execution_count": null,
   "metadata": {
    "collapsed": true
   },
   "outputs": [],
   "source": [
    "Bagging\n",
    "\n",
    "Boosting\n",
    "\n",
    "Out of bag errors"
   ]
  },
  {
   "cell_type": "code",
   "execution_count": null,
   "metadata": {
    "collapsed": true
   },
   "outputs": [],
   "source": [
    "n_estimators\n",
    "\n",
    "max_features\n",
    "\n",
    "criterion\n",
    "\n",
    "max_depth\n",
    "\n",
    "min_samples_leaf"
   ]
  }
 ],
 "metadata": {
  "kernelspec": {
   "display_name": "Python 3",
   "language": "python",
   "name": "python3"
  },
  "language_info": {
   "codemirror_mode": {
    "name": "ipython",
    "version": 3
   },
   "file_extension": ".py",
   "mimetype": "text/x-python",
   "name": "python",
   "nbconvert_exporter": "python",
   "pygments_lexer": "ipython3",
   "version": "3.6.4"
  }
 },
 "nbformat": 4,
 "nbformat_minor": 2
}
