{
 "cells": [
  {
   "cell_type": "markdown",
   "metadata": {},
   "source": [
    "# 1"
   ]
  },
  {
   "cell_type": "code",
   "execution_count": null,
   "metadata": {
    "collapsed": true
   },
   "outputs": [],
   "source": [
    "#Introduction\n",
    "\n",
    "# define/explain Problem statements\n",
    "\n",
    "# Description on domain of the problem\n",
    "\n",
    "# previous work - research papers, blogposts, open sourced code\n",
    "\n",
    "#Data description / data dictionary\n"
   ]
  },
  {
   "cell_type": "markdown",
   "metadata": {},
   "source": [
    "# 2"
   ]
  },
  {
   "cell_type": "code",
   "execution_count": null,
   "metadata": {
    "collapsed": true
   },
   "outputs": [],
   "source": [
    "#Load libraries\n",
    "#first load data loading libs\n",
    "#Viz libs\n",
    "#ML libs\n",
    "\n",
    "\n",
    "#Import helper functions\n",
    "\n",
    "#Load data"
   ]
  },
  {
   "cell_type": "markdown",
   "metadata": {},
   "source": [
    "# 3"
   ]
  },
  {
   "cell_type": "code",
   "execution_count": null,
   "metadata": {
    "collapsed": true
   },
   "outputs": [],
   "source": [
    "#determine data type of columns and group  - Categorical | Numerical | Alphanumeric\n",
    "\n",
    "#Overview of training data\n",
    "\n",
    "\n",
    "#overview of testing data\n",
    "\n"
   ]
  },
  {
   "cell_type": "markdown",
   "metadata": {},
   "source": [
    "# 4"
   ]
  },
  {
   "cell_type": "code",
   "execution_count": null,
   "metadata": {
    "collapsed": true
   },
   "outputs": [],
   "source": [
    "#Response rate % -- Pie chart, bar charts\n",
    "\n",
    "#Response rate distribution\n",
    "#Individual feature viz - \n",
    "#seperate fn for categorical, \n",
    "#seperate fn Continous features\n"
   ]
  },
  {
   "cell_type": "markdown",
   "metadata": {},
   "source": [
    "# 5"
   ]
  },
  {
   "cell_type": "code",
   "execution_count": null,
   "metadata": {
    "collapsed": true
   },
   "outputs": [],
   "source": []
  },
  {
   "cell_type": "markdown",
   "metadata": {},
   "source": [
    "# 6"
   ]
  },
  {
   "cell_type": "code",
   "execution_count": null,
   "metadata": {
    "collapsed": true
   },
   "outputs": [],
   "source": [
    "#Multi-feature comparison\n",
    "\n",
    "#Corelation heatmap\n",
    "\n",
    "#Explore corelation - Corelating b/w numerical features\n",
    "\n",
    "# corelating b/w numerical and ordinal features\n",
    "\n",
    "#corelating b/w categorical features\n",
    "\n",
    "#corelating b/w categorical and numerical features"
   ]
  },
  {
   "cell_type": "markdown",
   "metadata": {},
   "source": [
    "# 7"
   ]
  },
  {
   "cell_type": "code",
   "execution_count": null,
   "metadata": {
    "collapsed": true
   },
   "outputs": [],
   "source": [
    "#check for issues in the dataset - #any wrong inputs | wrong data found - human error, system error, encoding error\n",
    "\n",
    "#Rectify these issues\n",
    "\n",
    "# Transformation\n",
    "\n",
    "#Other related  feature transformations\n",
    "# Box cox algorithm\n",
    "# - normalize the feature\n",
    "# - plot, find the number to standarize with\n",
    "\n",
    "#convering categorical into numeric\n",
    "# label encoder\n",
    "# dummy encoder\n",
    "# combining based on frequency\n",
    "# bucketization / segments\n",
    "\n",
    "\n",
    "#Missing values imputation\n",
    "#- place holder(-1)\n",
    "# missing value imputation by chained equations\n",
    "# mean, median, mode\n",
    "#fitting a model\n",
    "#Business rules\n",
    "# if categorical - max value encoding\n",
    "#completing / correcting numerical features"
   ]
  },
  {
   "cell_type": "code",
   "execution_count": null,
   "metadata": {
    "collapsed": true
   },
   "outputs": [],
   "source": [
    "#Feature Engg\n",
    "\n",
    "#1. \n",
    "\n",
    "# > Scaling by Max-Min | - Box-Cox Algo\n",
    "# > Normalization using Std Deviation \n",
    "# > One hot encoding, Target encoding, Label encoding\n",
    "\n",
    "#2. \n",
    "# > Date based features - Month, Year, Sales last month, Sales last week\n",
    "# > Combine multiple common features to create a single class\n",
    "\n",
    "#3.\n",
    "# > Interaction features - A B - A+B | A-B |A*B |A/B - decide on features to create interaction by plotting hierarchical clustering\n",
    "\n",
    "#4.\n",
    "# > Business KPI's (look for target leaks)\n",
    "\n",
    "#5.\n",
    "# > Recency - Signals how old certain event is\n",
    "# > Frequency - Signals how oftern certain event occurs\n",
    "# > Monetary - Numerical representation of direct or Indirect business value\n",
    "# > Variety - How many distinct items for certain type of an example\n",
    "# > Tenure - Time elapsed since the first appearanc  a certain example\n",
    "\n",
    "\n",
    "#6.\n",
    "#Clip values\n",
    "#Divison / combining multiple features - DSales for a particular product in last 6 months purchased by only IT professionals\n",
    "# > Indicator variables\n",
    "\n",
    "#Domain dependant \n"
   ]
  },
  {
   "cell_type": "code",
   "execution_count": null,
   "metadata": {
    "collapsed": true
   },
   "outputs": [],
   "source": [
    "#Missing values\n",
    "\n",
    "#Determining missing values in features (train and test)\n",
    "- #write a fn to get % of missing values for each columns in the dataset\n",
    "\n",
    "#Identify the reason for missing data occurence\n",
    "\n",
    "> Understand data collection process\n",
    "\n",
    "> Missing completely at random\n",
    " - Nature of missing data is not related to any of the variables whether missing / observed . Missing completely unsystematic\n",
    "\n",
    "#Example, let’s look at a study that involves determining the reason for obesity among K12 children. \n",
    "#MCAR is when the parents forgot to take their kids to the clinic for the study.\n",
    "    \n",
    "> Missing at random\n",
    " - Nature of missing data is related to the observed data but not the missing data\n",
    "\n",
    "#Missing data in this case is due to parents moving to a different city and hence, \n",
    "#the children had to leave the study — missingness has nothing to do with the study.\n",
    "\n",
    "> Missing not at random\n",
    " - These exists when the missing values are neither MCAR / MAR. \n",
    " - The missing values are realted to both the observed and unobserved variable  \n",
    "\n",
    "#An example of MNAR is that the parents are offended by the nature of the study and do not want their children to be bullied, \n",
    "#so they withdrew kids from the study.\n"
   ]
  },
  {
   "cell_type": "markdown",
   "metadata": {},
   "source": [
    "# 8"
   ]
  },
  {
   "cell_type": "code",
   "execution_count": null,
   "metadata": {
    "collapsed": true
   },
   "outputs": [],
   "source": [
    "# Modelling\n",
    "\n",
    "#Evaluation metric description\n",
    "#run checks if train and test data are proper\n",
    "# check if columns are in the same order in train and test\n",
    "#response column shd be properly encoded - (Survived / Not-Survived) - (0/1)\n",
    "\n",
    "#create a holdout dataset - (created frm training set)\n",
    "\n",
    "#Feature selection\n",
    "\n",
    "#Train multiple models (with cross validation (save cv results))\n",
    "\n",
    "#Save the fold indices\n",
    "\n",
    "#Save model outputs\n",
    "\n",
    "#select best performing model and plot/show feature Importance \n",
    "\n",
    "#Prediction on the test set\n",
    "\n",
    "#Generate evaluation metric numbers on the training set and test set"
   ]
  },
  {
   "cell_type": "markdown",
   "metadata": {},
   "source": [
    "# 9"
   ]
  },
  {
   "cell_type": "code",
   "execution_count": null,
   "metadata": {
    "collapsed": true
   },
   "outputs": [],
   "source": [
    "#Present your model results\n",
    "\n",
    "#Deploy the model - RESTful api endpoints (ML model serving)\n",
    "\n",
    "#export the model file - .pkl, pojo, mojo, pmml"
   ]
  },
  {
   "cell_type": "code",
   "execution_count": null,
   "metadata": {
    "collapsed": true
   },
   "outputs": [],
   "source": [
    "#links\n",
    "\n",
    "1. Basics of machine learning\n",
    "\n",
    "https://www.analyticsvidhya.com/blog/2015/06/machine-learning-basics/\n",
    "\n",
    "https://towardsdatascience.com/the-7-steps-of-machine-learning-2877d7e5548e \n",
    "\n",
    "\n",
    "2. Applied Machine Learning Process\n",
    "\n",
    "https://machinelearningmastery.com/4-steps-to-get-started-in-machine-learning/ \n",
    "\n",
    "\n",
    "3. Explains the different steps in the machine learning process\n",
    "\n",
    "https://machinelearningmastery.com/process-for-working-through-machine-learning-problems/ - \n",
    "\n",
    "\n",
    "4. http://www.r2d3.us/visual-intro-to-machine-learning-part-1/\n",
    "    \n",
    "\n",
    "5. https://www.analyticsvidhya.com/blog/2016/01/guide-data-exploration/\n",
    "    \n",
    "6. https://www.analyticsvidhya.com/blog/2015/11/easy-methods-deal-categorical-variables-predictive-modeling/\n",
    "    \n",
    "7. https://www.analyticsvidhya.com/blog/2015/12/improve-machine-learning-results/\n",
    "    \n",
    "8. https://elitedatascience.com/machine-learning-iteration\n",
    "    \n",
    "9. http://scikit-learn.org/dev/auto_examples/preprocessing/plot_power_transformer.html\n",
    "    \n",
    "10. https://elitedatascience.com/bias-variance-tradeoff\n",
    "    \n",
    "11. https://machinelearningmastery.com/discover-feature-engineering-how-to-engineer-features-and-how-to-get-good-at-it/\n",
    "    \n",
    "12. https://elitedatascience.com/feature-engineering-best-practices\n",
    "    \n",
    "13. https://www.kdnuggets.com/2017/10/jmp-data-derived-variables.html\n",
    "    \n",
    "14. https://www.kdnuggets.com/tag/feature-engineering\n",
    "    \n",
    "15. https://www.quora.com/What-are-some-best-practices-in-Feature-Engineering\n",
    "\n",
    "16. https://medium.com/ibm-data-science-experience/missing-data-conundrum-exploration-and-imputation-techniques-9f40abe0fd87\n",
    "\n"
   ]
  }
 ],
 "metadata": {
  "kernelspec": {
   "display_name": "Python 3",
   "language": "python",
   "name": "python3"
  },
  "language_info": {
   "codemirror_mode": {
    "name": "ipython",
    "version": 3
   },
   "file_extension": ".py",
   "mimetype": "text/x-python",
   "name": "python",
   "nbconvert_exporter": "python",
   "pygments_lexer": "ipython3",
   "version": "3.6.4"
  }
 },
 "nbformat": 4,
 "nbformat_minor": 2
}
