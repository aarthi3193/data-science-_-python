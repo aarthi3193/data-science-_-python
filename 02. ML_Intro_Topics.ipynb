{
 "cells": [
  {
   "cell_type": "code",
   "execution_count": null,
   "metadata": {
    "collapsed": true
   },
   "outputs": [],
   "source": [
    "Machine Learning\n",
    "\n",
    "Supervised input variables (x) and o/p (y) - response variable | Output variable | Target variable\n",
    "\n",
    "    Regression\n",
    "    Classification\n",
    "    \n",
    "Unsupervised input variables\n",
    "\n",
    "Clustering\n",
    "Dimensionality Reduction\n",
    "\n",
    "Semi-supervised"
   ]
  },
  {
   "cell_type": "code",
   "execution_count": null,
   "metadata": {
    "collapsed": true
   },
   "outputs": [],
   "source": [
    "Regression - \n",
    "\n",
    "Classification - "
   ]
  },
  {
   "cell_type": "code",
   "execution_count": null,
   "metadata": {
    "collapsed": true
   },
   "outputs": [],
   "source": [
    "No free lunch theorem"
   ]
  },
  {
   "cell_type": "code",
   "execution_count": null,
   "metadata": {
    "collapsed": true
   },
   "outputs": [],
   "source": [
    "Cost function / loss function\n",
    "\n",
    "Objective function\n",
    "\n",
    "Optimization - Gradient descent / gradient ascent\n",
    "\n",
    "Performance metrics\n",
    "\n",
    "Bias variance tradeoff"
   ]
  },
  {
   "cell_type": "code",
   "execution_count": null,
   "metadata": {
    "collapsed": true
   },
   "outputs": [],
   "source": [
    "Supervised / unsupervised Algo\n",
    "\n",
    "Linear Regression\n",
    "\n",
    "Lasso, Ridge, Elastic Net\n",
    "\n",
    "Logistic Regression\n",
    "\n",
    "Decision Trees (CART, BAgging, Boosting)\n",
    "\n",
    "Neural Networks\n",
    "\n",
    "SVM\n",
    "\n",
    "Clustering\n",
    "\n",
    "Dimensionality reduction  - PCA\n",
    "\n",
    "Recommendation Engines - \n",
    "\n"
   ]
  },
  {
   "cell_type": "code",
   "execution_count": null,
   "metadata": {
    "collapsed": true
   },
   "outputs": [],
   "source": [
    "\n"
   ]
  },
  {
   "cell_type": "code",
   "execution_count": null,
   "metadata": {
    "collapsed": true
   },
   "outputs": [],
   "source": []
  }
 ],
 "metadata": {
  "kernelspec": {
   "display_name": "Python 3",
   "language": "python",
   "name": "python3"
  },
  "language_info": {
   "codemirror_mode": {
    "name": "ipython",
    "version": 3
   },
   "file_extension": ".py",
   "mimetype": "text/x-python",
   "name": "python",
   "nbconvert_exporter": "python",
   "pygments_lexer": "ipython3",
   "version": "3.5.2"
  }
 },
 "nbformat": 4,
 "nbformat_minor": 2
}
