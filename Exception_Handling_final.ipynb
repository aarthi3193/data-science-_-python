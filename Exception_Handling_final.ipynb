{
 "cells": [
  {
   "cell_type": "code",
   "execution_count": null,
   "metadata": {},
   "outputs": [
    {
     "name": "stdout",
     "output_type": "stream",
     "text": [
      "Enter a numerator:8\n",
      "Enter a denominator:0\n",
      "An Error has happened!\n",
      "the error was float division by zero\n"
     ]
    }
   ],
   "source": [
    "while True:\n",
    "    try:\n",
    "        num = float(input(\"Enter a numerator:\"))\n",
    "        denom = float(input(\"Enter a denominator:\"))\n",
    "    \n",
    "        print (\"The fraction ratio is:\" (num/denom))\n",
    "    except ZeroDivisionError as theZeroError:\n",
    "        print(\"An Error has happened!\")\n",
    "        print(\"the error was\",theZeroError)"
   ]
  },
  {
   "cell_type": "code",
   "execution_count": null,
   "metadata": {},
   "outputs": [],
   "source": [
    "\n",
    "def get_ratios(L1, L2):\n",
    "    \n",
    "    ratios = []\n",
    "    for index in range(len(L1)):\n",
    "        try:\n",
    "            ratios.append(L1[index]/L2[index])\n",
    "        except ZeroDivisionError:\n",
    "            ratios.append(float('nan'))\n",
    "        except:\n",
    "            raise ValueError('get_ratios called with bad arg')\n",
    "        return ratios  \n",
    "\n",
    "            "
   ]
  },
  {
   "cell_type": "code",
   "execution_count": null,
   "metadata": {},
   "outputs": [],
   "source": [
    "get_ratios([10,20], [4,5,6])"
   ]
  },
  {
   "cell_type": "code",
   "execution_count": null,
   "metadata": {},
   "outputs": [],
   "source": [
    "#grades = [[80.0, 70.0, 85.0], [100.0, 80.0, 74.0], [8.0, 10.0, 96.0], []] \n",
    "test_grades = [[['sam','tom'], [80.0, 70.0, 85.0]], [['peter', 'nancy'], [100.0, 80.0, 74.0]], [['Grace', 'Anastecia'], [8.0, 10.0, 96.0]], [['rose', 'stephie'], [] , 0.0]]\n",
    "#class_list = [[['sam','tom'], [80.0, 70.0, 85.0], 78.33333], [['peter', 'nancy'], [100.0, 80.0, 74.0], 84.666667], \n",
    " #             [['Grace', 'Anastecia'], [8.0, 10.0, 96.0], 17.5], [['rose', 'stephie'], [] , 0.0]]\n",
    "def get_stats(test_grades):\n",
    "    new_stats = []\n",
    "    for elt in test_grades:\n",
    "        new_stats.append([elt[0], elt[1], avg(elt[1])])\n",
    "        return new_stats\n",
    "#grades = []\n",
    "def avg(grades):\n",
    "    try:\n",
    "        return (sum(grades)/(len(grades))\n",
    "    except ZeroDivisionError:\n",
    "        print (\"Warning: No Grades Data!\")\n",
    "        return 0.0\n",
    "avg([['rose', 'stephie'], [] , 0.0])\n",
    "get_stats([['rose', 'stephie'], [] , 0.0])\n",
    "#obj1 = avg(test_grades)"
   ]
  },
  {
   "cell_type": "code",
   "execution_count": null,
   "metadata": {},
   "outputs": [],
   "source": [
    "avg([80.0, 70.0, 85.0])"
   ]
  },
  {
   "cell_type": "code",
   "execution_count": null,
   "metadata": {},
   "outputs": [],
   "source": [
    "get_stats([['rose', 'stephie'], [] , 0.0])"
   ]
  },
  {
   "cell_type": "code",
   "execution_count": null,
   "metadata": {},
   "outputs": [],
   "source": [
    "avg([['rose', 'stephie'], [] , 0.0])"
   ]
  },
  {
   "cell_type": "code",
   "execution_count": null,
   "metadata": {
    "collapsed": true
   },
   "outputs": [],
   "source": [
    "print(new_stats)"
   ]
  },
  {
   "cell_type": "code",
   "execution_count": null,
   "metadata": {
    "collapsed": true
   },
   "outputs": [],
   "source": []
  },
  {
   "cell_type": "code",
   "execution_count": null,
   "metadata": {
    "collapsed": true
   },
   "outputs": [],
   "source": []
  }
 ],
 "metadata": {
  "kernelspec": {
   "display_name": "Python 3",
   "language": "python",
   "name": "python3"
  },
  "language_info": {
   "codemirror_mode": {
    "name": "ipython",
    "version": 3
   },
   "file_extension": ".py",
   "mimetype": "text/x-python",
   "name": "python",
   "nbconvert_exporter": "python",
   "pygments_lexer": "ipython3",
   "version": "3.6.3"
  }
 },
 "nbformat": 4,
 "nbformat_minor": 2
}
