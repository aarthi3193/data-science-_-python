{
 "cells": [
  {
   "cell_type": "code",
   "execution_count": 4,
   "metadata": {},
   "outputs": [
    {
     "name": "stdout",
     "output_type": "stream",
     "text": [
      "Calling parent constructor\n",
      "Calling parent method\n",
      "Calling child constructor\n",
      "Calling child method\n",
      "Calling parent method\n",
      "Parent attribute :\n"
     ]
    }
   ],
   "source": [
    "class Parent:        \n",
    "    parentAttr = 100\n",
    "    def __init__(self):\n",
    "        print (\"Calling parent constructor\")\n",
    "  \n",
    "    def parentMethod(self):\n",
    "        print ('Calling parent method')\n",
    "    \n",
    "    def setAttr(self, attr):\n",
    "        Parent.parentAttr = attr\n",
    "    \n",
    "    def getAttr(self):\n",
    "        print (\"Parent attribute :\"), Parent.parentAttr\n",
    "\n",
    "class Child(Parent): \n",
    "    def __init__(self):\n",
    "        print (\"Calling child constructor\")\n",
    "    \n",
    "    def childMethod(self):\n",
    "        print ('Calling child method')\n",
    "p = Parent()\n",
    "p.parentMethod()\n",
    "c = Child()          \n",
    "c.childMethod()     \n",
    "c.parentMethod()    \n",
    "c.setAttr(200)      \n",
    "c.getAttr()     "
   ]
  },
  {
   "cell_type": "code",
   "execution_count": null,
   "metadata": {
    "collapsed": true
   },
   "outputs": [],
   "source": []
  }
 ],
 "metadata": {
  "kernelspec": {
   "display_name": "Python 3",
   "language": "python",
   "name": "python3"
  },
  "language_info": {
   "codemirror_mode": {
    "name": "ipython",
    "version": 3
   },
   "file_extension": ".py",
   "mimetype": "text/x-python",
   "name": "python",
   "nbconvert_exporter": "python",
   "pygments_lexer": "ipython3",
   "version": "3.6.3"
  }
 },
 "nbformat": 4,
 "nbformat_minor": 2
}
