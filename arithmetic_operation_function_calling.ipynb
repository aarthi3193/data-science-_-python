{
 "cells": [
  {
   "cell_type": "code",
   "execution_count": 11,
   "metadata": {},
   "outputs": [
    {
     "name": "stdout",
     "output_type": "stream",
     "text": [
      "constructor got called\n",
      "called adding\n",
      "30\n",
      "called sub\n",
      "10\n",
      "mult called\n",
      "30\n",
      "division called\n",
      "2\n"
     ]
    }
   ],
   "source": [
    "import arithmetic_operations as ar\n",
    "\n",
    "\n",
    "class arithmetic_operations:\n",
    "    def __init__(self):\n",
    "        print (\"constructor got called\")\n",
    "        add_result = ar.add(10,20)\n",
    "        print(add_result)\n",
    "        sub_result = ar.sub(30,20)\n",
    "        print(sub_result)\n",
    "        mul_result = ar.mult(5,6)\n",
    "        print(mul_result)\n",
    "        div_result = ar.div(8,3)\n",
    "        print(div_result)\n",
    "        \n",
    "\n",
    "ob1 = arithmetic_operations() "
   ]
  },
  {
   "cell_type": "code",
   "execution_count": 3,
   "metadata": {},
   "outputs": [
    {
     "data": {
      "text/plain": [
       "30"
      ]
     },
     "execution_count": 3,
     "metadata": {},
     "output_type": "execute_result"
    }
   ],
   "source": [
    "add_result\n"
   ]
  },
  {
   "cell_type": "code",
   "execution_count": 12,
   "metadata": {},
   "outputs": [
    {
     "name": "stdout",
     "output_type": "stream",
     "text": [
      "constructor got called\n",
      "called adding\n",
      "30\n",
      "called sub\n",
      "10\n",
      "mult called\n",
      "30\n",
      "division called\n",
      "2\n"
     ]
    },
    {
     "data": {
      "text/plain": [
       "<__main__.arithmetic_operations at 0x1f54afc0b38>"
      ]
     },
     "execution_count": 12,
     "metadata": {},
     "output_type": "execute_result"
    }
   ],
   "source": [
    "arithmetic_operations()"
   ]
  },
  {
   "cell_type": "code",
   "execution_count": null,
   "metadata": {
    "collapsed": true
   },
   "outputs": [],
   "source": []
  }
 ],
 "metadata": {
  "kernelspec": {
   "display_name": "Python 3",
   "language": "python",
   "name": "python3"
  },
  "language_info": {
   "codemirror_mode": {
    "name": "ipython",
    "version": 3
   },
   "file_extension": ".py",
   "mimetype": "text/x-python",
   "name": "python",
   "nbconvert_exporter": "python",
   "pygments_lexer": "ipython3",
   "version": "3.6.3"
  }
 },
 "nbformat": 4,
 "nbformat_minor": 2
}
