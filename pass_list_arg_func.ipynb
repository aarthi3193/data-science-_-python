{
 "cells": [
  {
   "cell_type": "code",
   "execution_count": 24,
   "metadata": {},
   "outputs": [],
   "source": [
    "#number_list = []\n",
    "def print_even_numbers(number_list):\n",
    "    even_numbers = [] # define the empty list of even numbers\n",
    "    odd_numbers = [] #define the empty list of odd numbers\n",
    "    number_list = []\n",
    "    for number in number_list:\n",
    "        if number % 2 == 0: # check if number is even\n",
    "            even_numbers.append(number) # if it is, store it\n",
    "        else:\n",
    "            odd_numbers.append(number)\n",
    "        return even_numbers # Return the list of even numbers\n",
    "\n",
    "        #return odd_numbers \n",
    "#even = print_even_numbers(1)\n"
   ]
  },
  {
   "cell_type": "code",
   "execution_count": 25,
   "metadata": {},
   "outputs": [],
   "source": [
    "print_even_numbers([1,2,3,4,5,6])"
   ]
  },
  {
   "cell_type": "code",
   "execution_count": 6,
   "metadata": {},
   "outputs": [],
   "source": [
    "def median(num):\n",
    "    s_num = sorted(num)\n",
    "    if len(num) % 2 == 1:\n",
    "        return s_num[(len(num) / 2)]\n",
    "    else:\n",
    "        x = s_num[(len(num) / 2) - 1]\n",
    "        y = s_num[(len(num) / 2)]\n",
    "        z = x + y\n",
    "    return z / 2.0"
   ]
  },
  {
   "cell_type": "code",
   "execution_count": 7,
   "metadata": {
    "collapsed": true
   },
   "outputs": [],
   "source": [
    "num = [1,2,3,4,5,6]\n"
   ]
  },
  {
   "cell_type": "code",
   "execution_count": 8,
   "metadata": {},
   "outputs": [
    {
     "data": {
      "text/plain": [
       "6"
      ]
     },
     "execution_count": 8,
     "metadata": {},
     "output_type": "execute_result"
    }
   ],
   "source": [
    "len(num)"
   ]
  },
  {
   "cell_type": "code",
   "execution_count": null,
   "metadata": {
    "collapsed": true
   },
   "outputs": [],
   "source": []
  }
 ],
 "metadata": {
  "kernelspec": {
   "display_name": "Python 3",
   "language": "python",
   "name": "python3"
  },
  "language_info": {
   "codemirror_mode": {
    "name": "ipython",
    "version": 3
   },
   "file_extension": ".py",
   "mimetype": "text/x-python",
   "name": "python",
   "nbconvert_exporter": "python",
   "pygments_lexer": "ipython3",
   "version": "3.6.3"
  }
 },
 "nbformat": 4,
 "nbformat_minor": 2
}
