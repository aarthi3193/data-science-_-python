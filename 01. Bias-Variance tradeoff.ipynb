{
 "cells": [
  {
   "cell_type": "code",
   "execution_count": null,
   "metadata": {
    "collapsed": true
   },
   "outputs": [],
   "source": [
    "Bias - error\n",
    "\n",
    "variance - generalization\n",
    "\n",
    "mode complexity"
   ]
  },
  {
   "cell_type": "code",
   "execution_count": null,
   "metadata": {
    "collapsed": true
   },
   "outputs": [],
   "source": [
    "Ensembling - combine - reduce variance - increase your accuracy\n",
    "\n",
    "ML model - Low bias - low variance\n",
    "\n",
    "* low bias - prediction error on unseen data shd be low / accuracy on unseen data shd be \n",
    "similar to training(testing/validation) data  \n",
    "\n",
    "* low variance - model shd generalise well on unseedn data / accuracy on unseen data shd be \n",
    "similar to training(testing/validation) data   "
   ]
  },
  {
   "cell_type": "code",
   "execution_count": null,
   "metadata": {
    "collapsed": true
   },
   "outputs": [],
   "source": [
    "underfitting - performs poorly on both training and test - high bias \n",
    "\n",
    "overfitting - performs very well on training data but poorly on unseen data - high variance "
   ]
  },
  {
   "cell_type": "code",
   "execution_count": null,
   "metadata": {
    "collapsed": true
   },
   "outputs": [],
   "source": []
  }
 ],
 "metadata": {
  "kernelspec": {
   "display_name": "Python 3",
   "language": "python",
   "name": "python3"
  },
  "language_info": {
   "codemirror_mode": {
    "name": "ipython",
    "version": 3
   },
   "file_extension": ".py",
   "mimetype": "text/x-python",
   "name": "python",
   "nbconvert_exporter": "python",
   "pygments_lexer": "ipython3",
   "version": "3.5.2"
  }
 },
 "nbformat": 4,
 "nbformat_minor": 2
}
